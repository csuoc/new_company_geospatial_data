{
 "cells": [
  {
   "cell_type": "markdown",
   "id": "54a3ba3e",
   "metadata": {},
   "source": [
    "# MONGO DB ANALYSIS"
   ]
  },
  {
   "cell_type": "markdown",
   "id": "c69715b5",
   "metadata": {},
   "source": [
    "## Import box"
   ]
  },
  {
   "cell_type": "code",
   "execution_count": 1,
   "id": "03e9cf97",
   "metadata": {},
   "outputs": [],
   "source": [
    "from pymongo import MongoClient\n",
    "import pandas as pd\n",
    "import time"
   ]
  },
  {
   "cell_type": "markdown",
   "id": "0e6ed050",
   "metadata": {},
   "source": [
    "## Connection with MongoDB"
   ]
  },
  {
   "cell_type": "code",
   "execution_count": 4,
   "id": "f9bdde31",
   "metadata": {},
   "outputs": [],
   "source": [
    "client = MongoClient(\"localhost:27017\")\n",
    "db = client[\"Ironhack\"]\n",
    "coll = db.get_collection(\"companies\")"
   ]
  },
  {
   "cell_type": "markdown",
   "id": "d8709ce8",
   "metadata": {},
   "source": [
    "## Find unique values of type category"
   ]
  },
  {
   "cell_type": "code",
   "execution_count": 18,
   "id": "698d8614",
   "metadata": {},
   "outputs": [],
   "source": [
    "unique_cat = pd.DataFrame(coll.find({}, {\"category_code\":1, \"name\":1, \"_id\":0}))"
   ]
  },
  {
   "cell_type": "code",
   "execution_count": 19,
   "id": "978e1fea",
   "metadata": {},
   "outputs": [
    {
     "data": {
      "text/plain": [
       "array(['web', 'enterprise', 'software', 'news', 'social',\n",
       "       'network_hosting', 'games_video', 'music', 'mobile', 'search',\n",
       "       'advertising', 'messaging', 'security', 'photo_video', 'finance',\n",
       "       'hardware', 'ecommerce', 'travel', 'public_relations', 'other',\n",
       "       'real_estate', 'semiconductor', 'analytics', 'health', 'legal',\n",
       "       'sports', 'biotech', 'cleantech', 'education', 'consulting',\n",
       "       'transportation', None, 'hospitality', 'fashion', 'nonprofit',\n",
       "       'nanotech', 'automotive', 'design', 'manufacturing', 'government',\n",
       "       'local', 'medical'], dtype=object)"
      ]
     },
     "execution_count": 19,
     "metadata": {},
     "output_type": "execute_result"
    }
   ],
   "source": [
    "unique_cat[\"category_code\"].unique()"
   ]
  },
  {
   "cell_type": "markdown",
   "id": "cc1d323b",
   "metadata": {},
   "source": [
    "Important categories: games_video, design, mobile. Gamedev could be categorized as design, too. What if the designers of this database mistyped the cateogory? We could have gamedev industries in both."
   ]
  },
  {
   "cell_type": "code",
   "execution_count": 38,
   "id": "3b877833",
   "metadata": {},
   "outputs": [
    {
     "data": {
      "text/plain": [
       "(4, 2)"
      ]
     },
     "execution_count": 38,
     "metadata": {},
     "output_type": "execute_result"
    }
   ],
   "source": [
    "filt = {\"category_code\":\"design\"}\n",
    "proj = {\"category_code\":1, \"name\":1, \"_id\":0}\n",
    "\n",
    "categ = pd.DataFrame(coll.find(filt,proj))\n",
    "categ.shape"
   ]
  },
  {
   "cell_type": "markdown",
   "id": "32bef790",
   "metadata": {},
   "source": [
    "Only 4 companies, not good. This is not the best way to target gamedev companies. Let's use the \"description\" and \"overview\" tags"
   ]
  },
  {
   "cell_type": "markdown",
   "id": "5a604187",
   "metadata": {},
   "source": [
    "## Find gaming companies by description, overview, total money raised, country"
   ]
  },
  {
   "cell_type": "code",
   "execution_count": 128,
   "id": "d8fe7bcf",
   "metadata": {},
   "outputs": [],
   "source": [
    "df = pd.DataFrame(coll.find({}, {\"description\":1, \"name\":1, \"_id\":0}))"
   ]
  },
  {
   "cell_type": "code",
   "execution_count": 129,
   "id": "aa94e59f",
   "metadata": {},
   "outputs": [
    {
     "data": {
      "text/html": [
       "<div>\n",
       "<style scoped>\n",
       "    .dataframe tbody tr th:only-of-type {\n",
       "        vertical-align: middle;\n",
       "    }\n",
       "\n",
       "    .dataframe tbody tr th {\n",
       "        vertical-align: top;\n",
       "    }\n",
       "\n",
       "    .dataframe thead th {\n",
       "        text-align: right;\n",
       "    }\n",
       "</style>\n",
       "<table border=\"1\" class=\"dataframe\">\n",
       "  <thead>\n",
       "    <tr style=\"text-align: right;\">\n",
       "      <th></th>\n",
       "      <th>name</th>\n",
       "      <th>description</th>\n",
       "    </tr>\n",
       "  </thead>\n",
       "  <tbody>\n",
       "    <tr>\n",
       "      <th>0</th>\n",
       "      <td>Wetpaint</td>\n",
       "      <td>Technology Platform Company</td>\n",
       "    </tr>\n",
       "    <tr>\n",
       "      <th>1</th>\n",
       "      <td>AdventNet</td>\n",
       "      <td>Server Management Software</td>\n",
       "    </tr>\n",
       "    <tr>\n",
       "      <th>2</th>\n",
       "      <td>Zoho</td>\n",
       "      <td>Online Business Apps Suite</td>\n",
       "    </tr>\n",
       "    <tr>\n",
       "      <th>3</th>\n",
       "      <td>Digg</td>\n",
       "      <td>user driven social content website</td>\n",
       "    </tr>\n",
       "    <tr>\n",
       "      <th>4</th>\n",
       "      <td>Facebook</td>\n",
       "      <td>Social network</td>\n",
       "    </tr>\n",
       "  </tbody>\n",
       "</table>\n",
       "</div>"
      ],
      "text/plain": [
       "        name                         description\n",
       "0   Wetpaint         Technology Platform Company\n",
       "1  AdventNet          Server Management Software\n",
       "2       Zoho          Online Business Apps Suite\n",
       "3       Digg  user driven social content website\n",
       "4   Facebook                      Social network"
      ]
     },
     "execution_count": 129,
     "metadata": {},
     "output_type": "execute_result"
    }
   ],
   "source": [
    "df.head()"
   ]
  },
  {
   "cell_type": "markdown",
   "id": "1d05a923",
   "metadata": {},
   "source": [
    "Let's find the ones related with the gaming industry with RegEx. Attributes: description, overview, total money raised, country"
   ]
  },
  {
   "cell_type": "code",
   "execution_count": 127,
   "id": "40ec3354",
   "metadata": {},
   "outputs": [
    {
     "data": {
      "text/html": [
       "<div>\n",
       "<style scoped>\n",
       "    .dataframe tbody tr th:only-of-type {\n",
       "        vertical-align: middle;\n",
       "    }\n",
       "\n",
       "    .dataframe tbody tr th {\n",
       "        vertical-align: top;\n",
       "    }\n",
       "\n",
       "    .dataframe thead th {\n",
       "        text-align: right;\n",
       "    }\n",
       "</style>\n",
       "<table border=\"1\" class=\"dataframe\">\n",
       "  <thead>\n",
       "    <tr style=\"text-align: right;\">\n",
       "      <th></th>\n",
       "      <th>name</th>\n",
       "      <th>number_of_employees</th>\n",
       "      <th>tag_list</th>\n",
       "      <th>description</th>\n",
       "      <th>overview</th>\n",
       "      <th>total_money_raised</th>\n",
       "      <th>offices</th>\n",
       "    </tr>\n",
       "  </thead>\n",
       "  <tbody>\n",
       "    <tr>\n",
       "      <th>0</th>\n",
       "      <td>Thumbplay</td>\n",
       "      <td>70.0</td>\n",
       "      <td>mobile, music, video, sharing, gaming, cloud, ...</td>\n",
       "      <td>Music, Videos, Games for Mobile Devices</td>\n",
       "      <td>&lt;p&gt;Thumbplay is a provider of mobile entertain...</td>\n",
       "      <td>$41.5M</td>\n",
       "      <td>[{'country_code': 'USA'}]</td>\n",
       "    </tr>\n",
       "    <tr>\n",
       "      <th>1</th>\n",
       "      <td>Xfire</td>\n",
       "      <td>NaN</td>\n",
       "      <td>games, pc, entertainment, onlinegaming, skillg...</td>\n",
       "      <td>Social Gaming Portal &amp; Platform</td>\n",
       "      <td>&lt;p&gt;Xfire is the leader in social gaming servic...</td>\n",
       "      <td>$7M</td>\n",
       "      <td>[{'country_code': 'USA'}]</td>\n",
       "    </tr>\n",
       "    <tr>\n",
       "      <th>2</th>\n",
       "      <td>OMGPOP</td>\n",
       "      <td>50.0</td>\n",
       "      <td>dating, gaming, auction</td>\n",
       "      <td>Free online multiplayer game</td>\n",
       "      <td>&lt;p&gt;OMGPOP (formerly known as iminlikewithyou) ...</td>\n",
       "      <td>$16.6M</td>\n",
       "      <td>[{'country_code': 'USA'}, {'country_code': 'US...</td>\n",
       "    </tr>\n",
       "    <tr>\n",
       "      <th>3</th>\n",
       "      <td>FlowPlay</td>\n",
       "      <td>30.0</td>\n",
       "      <td>flowplay, casual-games, virtual-world, avatars...</td>\n",
       "      <td>Virtual world technology and games</td>\n",
       "      <td>&lt;p&gt;FlowPlay, a developer of browser-based virt...</td>\n",
       "      <td>$3.97M</td>\n",
       "      <td>[{'country_code': 'USA'}]</td>\n",
       "    </tr>\n",
       "    <tr>\n",
       "      <th>4</th>\n",
       "      <td>PlaySpan</td>\n",
       "      <td>NaN</td>\n",
       "      <td>mmog, commerce, gamecommerce</td>\n",
       "      <td>P2P in-game commerce</td>\n",
       "      <td>&lt;p&gt;PlaySpanâ„¢ is the global leader in monetiz...</td>\n",
       "      <td>$46.3M</td>\n",
       "      <td>[{'country_code': 'USA'}, {'country_code': 'US...</td>\n",
       "    </tr>\n",
       "  </tbody>\n",
       "</table>\n",
       "</div>"
      ],
      "text/plain": [
       "        name  number_of_employees  \\\n",
       "0  Thumbplay                 70.0   \n",
       "1      Xfire                  NaN   \n",
       "2     OMGPOP                 50.0   \n",
       "3   FlowPlay                 30.0   \n",
       "4   PlaySpan                  NaN   \n",
       "\n",
       "                                            tag_list  \\\n",
       "0  mobile, music, video, sharing, gaming, cloud, ...   \n",
       "1  games, pc, entertainment, onlinegaming, skillg...   \n",
       "2                            dating, gaming, auction   \n",
       "3  flowplay, casual-games, virtual-world, avatars...   \n",
       "4                       mmog, commerce, gamecommerce   \n",
       "\n",
       "                               description  \\\n",
       "0  Music, Videos, Games for Mobile Devices   \n",
       "1         Social Gaming Portal & Platform    \n",
       "2            Free online multiplayer game    \n",
       "3       Virtual world technology and games   \n",
       "4                     P2P in-game commerce   \n",
       "\n",
       "                                            overview total_money_raised  \\\n",
       "0  <p>Thumbplay is a provider of mobile entertain...             $41.5M   \n",
       "1  <p>Xfire is the leader in social gaming servic...                $7M   \n",
       "2  <p>OMGPOP (formerly known as iminlikewithyou) ...             $16.6M   \n",
       "3  <p>FlowPlay, a developer of browser-based virt...             $3.97M   \n",
       "4  <p>PlaySpanâ„¢ is the global leader in monetiz...             $46.3M   \n",
       "\n",
       "                                             offices  \n",
       "0                          [{'country_code': 'USA'}]  \n",
       "1                          [{'country_code': 'USA'}]  \n",
       "2  [{'country_code': 'USA'}, {'country_code': 'US...  \n",
       "3                          [{'country_code': 'USA'}]  \n",
       "4  [{'country_code': 'USA'}, {'country_code': 'US...  "
      ]
     },
     "execution_count": 127,
     "metadata": {},
     "output_type": "execute_result"
    }
   ],
   "source": [
    "filt = {\"$and\": [{\"description\":{\"$regex\": \".*gam.*|.*Gam.*\"}, \"overview\":{\"$regex\": \".*gam.*|.*Gam.*\"}, \n",
    "                  \"total_money_raised\":{\"$regex\": \"\\$.*B|\\$.*M\"}, \"tag_list\":{\"$regex\": \".*gam.*|.*Gam.*\"}}]}\n",
    "\n",
    "proj = {\"description\":1, \"name\":1, \"_id\":0, \"description\":1, \"overview\":1, \"tag_list\":1, \"total_money_raised\":1, \"offices.country_code\":1, \"number_of_employees\":1}\n",
    "\n",
    "df_regex = pd.DataFrame(coll.find(filt,proj))\n",
    "df_regex.head()"
   ]
  },
  {
   "cell_type": "markdown",
   "id": "d5a52ca4",
   "metadata": {},
   "source": [
    "## Filtering by company value"
   ]
  },
  {
   "cell_type": "code",
   "execution_count": null,
   "id": "5f7c64dc",
   "metadata": {},
   "outputs": [],
   "source": []
  }
 ],
 "metadata": {
  "kernelspec": {
   "display_name": "ironhack",
   "language": "python",
   "name": "ironhack"
  },
  "language_info": {
   "codemirror_mode": {
    "name": "ipython",
    "version": 3
   },
   "file_extension": ".py",
   "mimetype": "text/x-python",
   "name": "python",
   "nbconvert_exporter": "python",
   "pygments_lexer": "ipython3",
   "version": "3.10.4"
  },
  "toc": {
   "base_numbering": 1,
   "nav_menu": {},
   "number_sections": true,
   "sideBar": true,
   "skip_h1_title": false,
   "title_cell": "Table of Contents",
   "title_sidebar": "Contents",
   "toc_cell": false,
   "toc_position": {},
   "toc_section_display": true,
   "toc_window_display": false
  }
 },
 "nbformat": 4,
 "nbformat_minor": 5
}
