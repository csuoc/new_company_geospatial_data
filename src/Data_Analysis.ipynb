{
 "cells": [
  {
   "cell_type": "markdown",
   "id": "3e58d16d",
   "metadata": {},
   "source": [
    "# API call, data analysis and cleaning"
   ]
  },
  {
   "cell_type": "markdown",
   "id": "fd22b08c",
   "metadata": {},
   "source": [
    "- Designers like to go to design talks and share knowledge. There must be some nearby companies that also do design.\n",
    "- 30% of the company staff have at least 1 child.\n",
    "- Developers like to be near successful tech startups that have raised at least 1 Million dollars.\n",
    "- Executives like Starbucks A LOT. Ensure there's a starbucks not too far.\n",
    "- Account managers need to travel a lot.\n",
    "- Everyone in the company is between 25 and 40, give them some place to go party.\n",
    "- The CEO is vegan.\n",
    "- If you want to make the maintenance guy happy, a basketball stadium must be around 10 Km.\n",
    "- The office dog—\"Dobby\" needs a hairdresser every month. Ensure there's one not too far away."
   ]
  },
  {
   "cell_type": "code",
   "execution_count": 177,
   "id": "8514a0e8",
   "metadata": {},
   "outputs": [],
   "source": [
    "from Functions import *\n",
    "from matplotlib import pyplot as plt"
   ]
  },
  {
   "cell_type": "code",
   "execution_count": 2,
   "id": "43b44bd7",
   "metadata": {},
   "outputs": [],
   "source": [
    "companies = pd.read_csv(\"../data/companies_cleaned.csv\")"
   ]
  },
  {
   "cell_type": "markdown",
   "id": "ac64f9d7",
   "metadata": {},
   "source": []
  },
  {
   "cell_type": "markdown",
   "id": "d89aaf92",
   "metadata": {},
   "source": [
    "## Data extraction"
   ]
  },
  {
   "cell_type": "markdown",
   "id": "d1518241",
   "metadata": {},
   "source": [
    "The next step was to find the major number of locations (according to the requisites) for each company. This process had to be made externally by calling an API or by doing web-scrap. In this case, the locations were called by using the RESTful from Foursquare.\n",
    "\n",
    "Two functions were created to extract the data:\n",
    "\n",
    "- get_tables: it logins to FSQ API and makes url calls based on different categories. Each category corresponds to a requisite, i.e, vegan restaurants, basket courts, airports, etc. The request is made per only 1 item of the companies dataframe. The result of the request is appended to a pandas dataframe and is stored to the data folder.\n",
    "\n",
    "- extract_categories: it calls get_tables function and extract the files of all the companies in the company dataframe.\n",
    "\n",
    "The result of both calls is the following. The list continues until reaching the length of the companies dataframe (12 items)."
   ]
  },
  {
   "cell_type": "code",
   "execution_count": 61,
   "id": "566f5bdf",
   "metadata": {},
   "outputs": [],
   "source": [
    "# FUNCTION TO EXTRACT ALL SINGLE CATEGORIES\n",
    "extract_categories(750)"
   ]
  },
  {
   "cell_type": "code",
   "execution_count": 16,
   "id": "8c0e41f6",
   "metadata": {},
   "outputs": [],
   "source": [
    "# FUNCTION TO EXTRACT ALL STARBUCKS ONLY\n",
    "extract_starbucks(750)"
   ]
  },
  {
   "cell_type": "markdown",
   "id": "9a1bba11",
   "metadata": {},
   "source": [
    "## Data manipulation"
   ]
  },
  {
   "cell_type": "markdown",
   "id": "da440d6c",
   "metadata": {},
   "source": [
    "Following the procedure, it is necessary to obtain the mean distance and the frequency of each csv file. This was performed using the calculate_distances function.\n",
    "\n",
    "calculate_distances looks for all csv files in the folder that start with a number. Then, it checks if the file is empty or not: if it is, it delivers a warning message with the problematic file. If not, it appends the mean distance and the frequency of all the findings."
   ]
  },
  {
   "cell_type": "code",
   "execution_count": 17,
   "id": "f0423ddb",
   "metadata": {},
   "outputs": [
    {
     "name": "stdout",
     "output_type": "stream",
     "text": [
      "These are the csv files without your request:\n"
     ]
    },
    {
     "data": {
      "text/plain": [
       "'../data/11starbucks.csv'"
      ]
     },
     "metadata": {},
     "output_type": "display_data"
    }
   ],
   "source": [
    "means, counts = calculate_distances(\"starbucks\")"
   ]
  },
  {
   "cell_type": "code",
   "execution_count": 18,
   "id": "9f3fda02",
   "metadata": {},
   "outputs": [],
   "source": [
    "# Setting 0 the missing values to match the shape\n",
    "means.insert(11, 0)\n",
    "counts.insert(11, 0)"
   ]
  },
  {
   "cell_type": "markdown",
   "id": "b051e146",
   "metadata": {},
   "source": [
    "Both values are now appended in a new column of the dataframe. This is an example of how the dataframe looks like now:"
   ]
  },
  {
   "cell_type": "code",
   "execution_count": 19,
   "id": "ae17abda",
   "metadata": {},
   "outputs": [],
   "source": [
    "companies[\"Starbucks mean distance\"] = means\n",
    "companies[\"Starbucks counts\"] = counts"
   ]
  },
  {
   "cell_type": "code",
   "execution_count": 237,
   "id": "168aca01",
   "metadata": {
    "scrolled": false
   },
   "outputs": [
    {
     "data": {
      "text/html": [
       "<div>\n",
       "<style scoped>\n",
       "    .dataframe tbody tr th:only-of-type {\n",
       "        vertical-align: middle;\n",
       "    }\n",
       "\n",
       "    .dataframe tbody tr th {\n",
       "        vertical-align: top;\n",
       "    }\n",
       "\n",
       "    .dataframe thead th {\n",
       "        text-align: right;\n",
       "    }\n",
       "</style>\n",
       "<table border=\"1\" class=\"dataframe\">\n",
       "  <thead>\n",
       "    <tr style=\"text-align: right;\">\n",
       "      <th></th>\n",
       "      <th>Name</th>\n",
       "      <th>Number of employees</th>\n",
       "      <th>Description</th>\n",
       "      <th>Total money (in million $)</th>\n",
       "      <th>Main address</th>\n",
       "      <th>City</th>\n",
       "      <th>Latitude</th>\n",
       "      <th>Longitude</th>\n",
       "    </tr>\n",
       "  </thead>\n",
       "  <tbody>\n",
       "    <tr>\n",
       "      <th>0</th>\n",
       "      <td>ngmoco</td>\n",
       "      <td>150</td>\n",
       "      <td>Games for the iPhone</td>\n",
       "      <td>44.8</td>\n",
       "      <td>185 Berry Street</td>\n",
       "      <td>San Francisco</td>\n",
       "      <td>37.770510</td>\n",
       "      <td>-122.401581</td>\n",
       "    </tr>\n",
       "    <tr>\n",
       "      <th>1</th>\n",
       "      <td>Thumbplay</td>\n",
       "      <td>70</td>\n",
       "      <td>Music, Videos, Games for Mobile Devices</td>\n",
       "      <td>41.5</td>\n",
       "      <td>599 Broadway</td>\n",
       "      <td>New York</td>\n",
       "      <td>40.725435</td>\n",
       "      <td>-73.997395</td>\n",
       "    </tr>\n",
       "    <tr>\n",
       "      <th>2</th>\n",
       "      <td>OMGPOP</td>\n",
       "      <td>50</td>\n",
       "      <td>Free online multiplayer game</td>\n",
       "      <td>16.6</td>\n",
       "      <td>SoHo</td>\n",
       "      <td>New York</td>\n",
       "      <td>40.723384</td>\n",
       "      <td>-74.001704</td>\n",
       "    </tr>\n",
       "    <tr>\n",
       "      <th>3</th>\n",
       "      <td>CyberArts</td>\n",
       "      <td>55</td>\n",
       "      <td>Gaming software developer</td>\n",
       "      <td>16.3</td>\n",
       "      <td>51 Arbor St,</td>\n",
       "      <td>San Francisco</td>\n",
       "      <td>37.737609</td>\n",
       "      <td>-122.435399</td>\n",
       "    </tr>\n",
       "    <tr>\n",
       "      <th>4</th>\n",
       "      <td>Zynga</td>\n",
       "      <td>115</td>\n",
       "      <td>Network of gaming applications</td>\n",
       "      <td>8.0</td>\n",
       "      <td>365 Vermont St.</td>\n",
       "      <td>San Francisco</td>\n",
       "      <td>37.765158</td>\n",
       "      <td>-122.404234</td>\n",
       "    </tr>\n",
       "  </tbody>\n",
       "</table>\n",
       "</div>"
      ],
      "text/plain": [
       "        Name  Number of employees                              Description  \\\n",
       "0     ngmoco                  150                     Games for the iPhone   \n",
       "1  Thumbplay                   70  Music, Videos, Games for Mobile Devices   \n",
       "2     OMGPOP                   50            Free online multiplayer game    \n",
       "3  CyberArts                   55                Gaming software developer   \n",
       "4      Zynga                  115           Network of gaming applications   \n",
       "\n",
       "   Total money (in million $)      Main address           City   Latitude  \\\n",
       "0                        44.8  185 Berry Street  San Francisco  37.770510   \n",
       "1                        41.5      599 Broadway       New York  40.725435   \n",
       "2                        16.6              SoHo       New York  40.723384   \n",
       "3                        16.3      51 Arbor St,  San Francisco  37.737609   \n",
       "4                         8.0   365 Vermont St.  San Francisco  37.765158   \n",
       "\n",
       "    Longitude  \n",
       "0 -122.401581  \n",
       "1  -73.997395  \n",
       "2  -74.001704  \n",
       "3 -122.435399  \n",
       "4 -122.404234  "
      ]
     },
     "execution_count": 237,
     "metadata": {},
     "output_type": "execute_result"
    }
   ],
   "source": [
    "companies.head()"
   ]
  },
  {
   "cell_type": "code",
   "execution_count": 21,
   "id": "f911f683",
   "metadata": {},
   "outputs": [],
   "source": [
    "# Minor corrections\n",
    "\n",
    "columns = ['Vegan restaurants mean distance', 'Daycare centers distance', 'Night clubs mean distance', 'Bus station mean distance'\n",
    "          , 'Metro station mean distance','Train station mean distance', 'Tram station mean distance', 'Basket courts mean distance',\n",
    "          'Pet grooming centers mean distance', 'Airports mean distance', 'Starbucks mean distance']\n",
    "\n",
    "for i in columns:\n",
    "    roundval(companies, i, 1)"
   ]
  },
  {
   "cell_type": "code",
   "execution_count": 23,
   "id": "62790baf",
   "metadata": {},
   "outputs": [],
   "source": [
    "companies.to_csv(\"../data/companies_final_dataset.csv\", index = False)"
   ]
  },
  {
   "cell_type": "markdown",
   "id": "32118f4c",
   "metadata": {},
   "source": [
    "## Principal Component Analysis"
   ]
  },
  {
   "cell_type": "markdown",
   "id": "d243f711",
   "metadata": {},
   "source": [
    "It is possible to obtain a lot of information about the amount of data I already have. Therefore, a preliminary PCA analysis can be made by obtaining the scores and loadings using The Unscrambler X software:"
   ]
  },
  {
   "cell_type": "markdown",
   "id": "351f4e0b",
   "metadata": {},
   "source": [
    "<img src=\"../images/ScoresLoadings.jpg\" width=\"500\">"
   ]
  },
  {
   "cell_type": "markdown",
   "id": "6bf2cab4",
   "metadata": {},
   "source": [
    "95% of the variance can be explained in the first PC axis. The scores and loadings don't have any kind of retionship between them. However, they can give us extra hints:"
   ]
  },
  {
   "cell_type": "markdown",
   "id": "ec547b36",
   "metadata": {},
   "source": [
    "<img src=\"../images/Variance.jpg\" width=\"500\">"
   ]
  },
  {
   "cell_type": "markdown",
   "id": "db9c583c",
   "metadata": {},
   "source": [
    "- Some companies are far away from the origin of coordinates. That means, they could be considered as potential outliers.\n",
    "- Some loadings are farther from the others"
   ]
  },
  {
   "cell_type": "markdown",
   "id": "19ee6b80",
   "metadata": {},
   "source": [
    "The first premise can be confirmed by looking at the hottellings T^2 plot:"
   ]
  },
  {
   "cell_type": "markdown",
   "id": "66308f6f",
   "metadata": {},
   "source": [
    "<img src=\"../images/Hottelings.jpg\" width=\"500\">"
   ]
  },
  {
   "cell_type": "markdown",
   "id": "82945274",
   "metadata": {},
   "source": [
    "Thus, it is possible to confirm that Kabam and Exent (from NY) companies are NOT related with the others. We can deleted those from our dataframe."
   ]
  },
  {
   "cell_type": "code",
   "execution_count": 228,
   "id": "113bb05f",
   "metadata": {},
   "outputs": [],
   "source": [
    "companies_final = pd.read_csv(\"../data/companies_final_dataset.csv\")"
   ]
  },
  {
   "cell_type": "code",
   "execution_count": 229,
   "id": "5ba0b23a",
   "metadata": {},
   "outputs": [],
   "source": [
    "companies_final = companies_final.loc[(companies_final[\"Name\"]==\"ngmoco\") | (companies_final[\"Name\"]==\"Zynga\") | (companies_final[\"Name\"]== \"Serious Business\") | (companies_final[\"Name\"]== \"Exent\") | (companies_final[\"Name\"]== \"Shattered Reality Interactive\")]"
   ]
  },
  {
   "cell_type": "code",
   "execution_count": 230,
   "id": "71318674",
   "metadata": {},
   "outputs": [],
   "source": [
    "companies_final = companies_final.loc[(companies_final[\"City\"]== \"San Francisco\")]"
   ]
  },
  {
   "cell_type": "markdown",
   "id": "f9848f28",
   "metadata": {},
   "source": [
    "## Weighing distances and variables"
   ]
  },
  {
   "cell_type": "markdown",
   "id": "4d65343b",
   "metadata": {},
   "source": [
    "In order to conclude the winner of this round, it was necessary to attribute a rank to the distances and variables.\n",
    "\n",
    "For the distances, it is logic to think that if a location is closer, it will get more points. Therefore, the following states were proposed:\n",
    "\n",
    "- If the distance is between 0 and 200 m, it gets 100 points.\n",
    "- If the distance is between 200 and 400, it gets 75 points.\n",
    "- If the distance is between 400 and 600 m, it gets 50 points.\n",
    "- If the distance is between 600 and 800 m, it gets 25 points.\n",
    "- If the distance is 0 or beyond 800 m, it gets 0 points.\n",
    "\n",
    "The punctuations are appended in a new individual column."
   ]
  },
  {
   "cell_type": "code",
   "execution_count": 231,
   "id": "3eea74af",
   "metadata": {},
   "outputs": [],
   "source": [
    "columns = ['Vegan restaurants mean distance', 'Daycare centers distance', 'Night clubs mean distance', 'Bus station mean distance'\n",
    "          , 'Metro station mean distance','Train station mean distance', 'Tram station mean distance', 'Basket courts mean distance',\n",
    "          'Pet grooming centers mean distance', 'Airports mean distance', 'Starbucks mean distance']\n",
    "\n",
    "for i in columns:\n",
    "    \n",
    "    companies_final[f\"{i.split(' ')[0]} score\"] = companies_final[i]\n",
    "    \n",
    "    for j in companies_final[f\"{i.split(' ')[0]} score\"].values:\n",
    "\n",
    "            if j in range(1,201):\n",
    "                companies_final[f\"{i.split(' ')[0]} score\"] = companies_final[f\"{i.split(' ')[0]} score\"].replace(j,100)\n",
    "\n",
    "            elif j in range(201,401):\n",
    "                companies_final[f\"{i.split(' ')[0]} score\"] = companies_final[f\"{i.split(' ')[0]} score\"].replace(j,75)\n",
    "\n",
    "            elif j in range(401,601):\n",
    "                companies_final[f\"{i.split(' ')[0]} score\"] = companies_final[f\"{i.split(' ')[0]} score\"].replace(j,50)\n",
    "\n",
    "            elif j in range(601,801):\n",
    "                companies_final[f\"{i.split(' ')[0]} score\"] = companies_final[f\"{i.split(' ')[0]} score\"].replace(j,25)\n",
    "\n",
    "            elif j > 800 or j == 0:\n",
    "                companies_final[f\"{i.split(' ')[0]} score\"] = companies_final[f\"{i.split(' ')[0]} score\"].replace(j,0)"
   ]
  },
  {
   "cell_type": "code",
   "execution_count": 234,
   "id": "706376d9",
   "metadata": {},
   "outputs": [],
   "source": [
    "companies_final[\"Total score\"] = [860.14, 1281.02, 1465.655, 1460.315, 219.175, 219.175]"
   ]
  },
  {
   "cell_type": "code",
   "execution_count": 235,
   "id": "3b7195be",
   "metadata": {},
   "outputs": [],
   "source": [
    "companies_final.to_csv(\"../data/companies_definitive_dataset.csv\", index = False)"
   ]
  },
  {
   "cell_type": "code",
   "execution_count": 243,
   "id": "3f5095e8",
   "metadata": {},
   "outputs": [
    {
     "data": {
      "text/html": [
       "<div>\n",
       "<style scoped>\n",
       "    .dataframe tbody tr th:only-of-type {\n",
       "        vertical-align: middle;\n",
       "    }\n",
       "\n",
       "    .dataframe tbody tr th {\n",
       "        vertical-align: top;\n",
       "    }\n",
       "\n",
       "    .dataframe thead th {\n",
       "        text-align: right;\n",
       "    }\n",
       "</style>\n",
       "<table border=\"1\" class=\"dataframe\">\n",
       "  <thead>\n",
       "    <tr style=\"text-align: right;\">\n",
       "      <th></th>\n",
       "      <th>Name</th>\n",
       "      <th>Number of employees</th>\n",
       "      <th>Description</th>\n",
       "      <th>Total money (in million $)</th>\n",
       "      <th>Main address</th>\n",
       "      <th>City</th>\n",
       "      <th>Latitude</th>\n",
       "      <th>Longitude</th>\n",
       "      <th>Vegan restaurants mean distance</th>\n",
       "      <th>Vegan restaurants station counts</th>\n",
       "      <th>...</th>\n",
       "      <th>Night score</th>\n",
       "      <th>Bus score</th>\n",
       "      <th>Metro score</th>\n",
       "      <th>Train score</th>\n",
       "      <th>Tram score</th>\n",
       "      <th>Basket score</th>\n",
       "      <th>Pet score</th>\n",
       "      <th>Airports score</th>\n",
       "      <th>Starbucks score</th>\n",
       "      <th>Total score</th>\n",
       "    </tr>\n",
       "  </thead>\n",
       "  <tbody>\n",
       "    <tr>\n",
       "      <th>0</th>\n",
       "      <td>ngmoco</td>\n",
       "      <td>150</td>\n",
       "      <td>Games for the iPhone</td>\n",
       "      <td>44.8</td>\n",
       "      <td>185 Berry Street</td>\n",
       "      <td>San Francisco</td>\n",
       "      <td>37.77051</td>\n",
       "      <td>-122.401581</td>\n",
       "      <td>697.0</td>\n",
       "      <td>4</td>\n",
       "      <td>...</td>\n",
       "      <td>50.0</td>\n",
       "      <td>50.0</td>\n",
       "      <td>0.0</td>\n",
       "      <td>50.0</td>\n",
       "      <td>0.0</td>\n",
       "      <td>75.0</td>\n",
       "      <td>0.0</td>\n",
       "      <td>0.0</td>\n",
       "      <td>602.2</td>\n",
       "      <td>860.14</td>\n",
       "    </tr>\n",
       "  </tbody>\n",
       "</table>\n",
       "<p>1 rows × 42 columns</p>\n",
       "</div>"
      ],
      "text/plain": [
       "     Name  Number of employees           Description  \\\n",
       "0  ngmoco                  150  Games for the iPhone   \n",
       "\n",
       "   Total money (in million $)      Main address           City  Latitude  \\\n",
       "0                        44.8  185 Berry Street  San Francisco  37.77051   \n",
       "\n",
       "    Longitude  Vegan restaurants mean distance  \\\n",
       "0 -122.401581                            697.0   \n",
       "\n",
       "   Vegan restaurants station counts  ...  Night score  Bus score  Metro score  \\\n",
       "0                                 4  ...         50.0       50.0          0.0   \n",
       "\n",
       "   Train score  Tram score  Basket score  Pet score  Airports score  \\\n",
       "0         50.0         0.0          75.0        0.0             0.0   \n",
       "\n",
       "   Starbucks score  Total score  \n",
       "0            602.2       860.14  \n",
       "\n",
       "[1 rows x 42 columns]"
      ]
     },
     "execution_count": 243,
     "metadata": {},
     "output_type": "execute_result"
    }
   ],
   "source": [
    "companies_final.sample()"
   ]
  },
  {
   "cell_type": "markdown",
   "id": "b8c32249",
   "metadata": {},
   "source": [
    "## Who's the winner?"
   ]
  },
  {
   "cell_type": "markdown",
   "id": "58dc1371",
   "metadata": {},
   "source": [
    "The final ranking will be calculated with the following formula:\n",
    "\n",
    "Total company score = Item weight 1 * Distance score 1 * Frequency item 1 + Item weight 2 * Distance score 2* Frequency item 2... Item weight 11 * Distance score 11 * Frequency item 11."
   ]
  },
  {
   "cell_type": "code",
   "execution_count": 238,
   "id": "c921e431",
   "metadata": {},
   "outputs": [
    {
     "data": {
      "text/html": [
       "<div>\n",
       "<style scoped>\n",
       "    .dataframe tbody tr th:only-of-type {\n",
       "        vertical-align: middle;\n",
       "    }\n",
       "\n",
       "    .dataframe tbody tr th {\n",
       "        vertical-align: top;\n",
       "    }\n",
       "\n",
       "    .dataframe thead th {\n",
       "        text-align: right;\n",
       "    }\n",
       "</style>\n",
       "<table border=\"1\" class=\"dataframe\">\n",
       "  <thead>\n",
       "    <tr style=\"text-align: right;\">\n",
       "      <th></th>\n",
       "      <th>Name</th>\n",
       "      <th>Total score</th>\n",
       "    </tr>\n",
       "  </thead>\n",
       "  <tbody>\n",
       "    <tr>\n",
       "      <th>0</th>\n",
       "      <td>ngmoco</td>\n",
       "      <td>860.140</td>\n",
       "    </tr>\n",
       "    <tr>\n",
       "      <th>4</th>\n",
       "      <td>Zynga</td>\n",
       "      <td>1281.020</td>\n",
       "    </tr>\n",
       "    <tr>\n",
       "      <th>5</th>\n",
       "      <td>Serious Business</td>\n",
       "      <td>1465.655</td>\n",
       "    </tr>\n",
       "    <tr>\n",
       "      <th>7</th>\n",
       "      <td>Exent</td>\n",
       "      <td>1460.315</td>\n",
       "    </tr>\n",
       "    <tr>\n",
       "      <th>9</th>\n",
       "      <td>Shattered Reality Interactive</td>\n",
       "      <td>219.175</td>\n",
       "    </tr>\n",
       "    <tr>\n",
       "      <th>10</th>\n",
       "      <td>Shattered Reality Interactive</td>\n",
       "      <td>219.175</td>\n",
       "    </tr>\n",
       "  </tbody>\n",
       "</table>\n",
       "</div>"
      ],
      "text/plain": [
       "                             Name  Total score\n",
       "0                          ngmoco      860.140\n",
       "4                           Zynga     1281.020\n",
       "5                Serious Business     1465.655\n",
       "7                           Exent     1460.315\n",
       "9   Shattered Reality Interactive      219.175\n",
       "10  Shattered Reality Interactive      219.175"
      ]
     },
     "execution_count": 238,
     "metadata": {},
     "output_type": "execute_result"
    }
   ],
   "source": [
    "companies_final[[\"Name\", \"Total score\"]]"
   ]
  },
  {
   "cell_type": "code",
   "execution_count": 236,
   "id": "e5a979e8",
   "metadata": {},
   "outputs": [
    {
     "data": {
      "image/png": "[encoded data removed]",
      "text/plain": [
       "<Figure size 432x288 with 1 Axes>"
      ]
     },
     "metadata": {
      "needs_background": "light"
     },
     "output_type": "display_data"
    }
   ],
   "source": [
    "companies_final[[\"Name\", \"Total score\"]].plot(kind=\"barh\", xlabel = \"Total score\", ylabel = \"Companies\")\n",
    "plt.show()"
   ]
  },
  {
   "cell_type": "markdown",
   "id": "493c6c9c",
   "metadata": {},
   "source": [
    "The winner is SERIOUS BUSINESS, although only for less than 5 points from the second one, Exent! This is weird, right?\n",
    "\n",
    "Well, let's see at the visualization of both companies and their surroundings."
   ]
  }
 ],
 "metadata": {
  "kernelspec": {
   "display_name": "ironhack",
   "language": "python",
   "name": "ironhack"
  },
  "language_info": {
   "codemirror_mode": {
    "name": "ipython",
    "version": 3
   },
   "file_extension": ".py",
   "mimetype": "text/x-python",
   "name": "python",
   "nbconvert_exporter": "python",
   "pygments_lexer": "ipython3",
   "version": "3.10.4"
  },
  "toc": {
   "base_numbering": 1,
   "nav_menu": {},
   "number_sections": true,
   "sideBar": true,
   "skip_h1_title": false,
   "title_cell": "Table of Contents",
   "title_sidebar": "Contents",
   "toc_cell": false,
   "toc_position": {},
   "toc_section_display": true,
   "toc_window_display": false
  }
 },
 "nbformat": 4,
 "nbformat_minor": 5
}
